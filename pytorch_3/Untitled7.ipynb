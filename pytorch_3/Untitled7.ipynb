{
 "cells": [
  {
   "cell_type": "code",
   "execution_count": 2,
   "id": "5f395825",
   "metadata": {},
   "outputs": [],
   "source": [
    "import torch\n",
    "import numpy as np"
   ]
  },
  {
   "cell_type": "code",
   "execution_count": 5,
   "id": "83564128",
   "metadata": {},
   "outputs": [
    {
     "name": "stdout",
     "output_type": "stream",
     "text": [
      "tensor([[1., 2.],\n",
      "        [3., 4.]])\n",
      "[[1. 2.]\n",
      " [3. 4.]]\n",
      "tensor([[5., 6.],\n",
      "        [7., 8.]])\n"
     ]
    }
   ],
   "source": [
    "#创建一个张量\n",
    "tensor_a = torch.tensor([[1,2],[3,4]],dtype=torch.float32)\n",
    "print(tensor_a)\n",
    "print(tensor_a.numpy())\n",
    "tensor_b = np.array([[5,6],[7,8]],dtype='float32')\n",
    "tensor_b = torch.from_numpy(tensor_b)\n",
    "print(tensor_b)"
   ]
  },
  {
   "cell_type": "code",
   "execution_count": 6,
   "id": "dc5e8733",
   "metadata": {},
   "outputs": [
    {
     "name": "stdout",
     "output_type": "stream",
     "text": [
      "tensor([[0., 0., 0., 0.],\n",
      "        [0., 0., 0., 0.]])\n"
     ]
    }
   ],
   "source": [
    "zeros_tensor = torch.zeros([2,4],dtype=torch.float32)\n",
    "print(zeros_tensor)"
   ]
  },
  {
   "cell_type": "code",
   "execution_count": 11,
   "id": "17962f5a",
   "metadata": {},
   "outputs": [
    {
     "name": "stdout",
     "output_type": "stream",
     "text": [
      "before modify: tensor([[5., 5.],\n",
      "        [3., 4.]])\n",
      "after modify: tensor([[6., 5.],\n",
      "        [3., 4.]])\n"
     ]
    }
   ],
   "source": [
    "print('before modify:',tensor_a)\n",
    "tensor_a[0][0] = torch.tensor([6])\n",
    "print('after modify:',tensor_a)"
   ]
  },
  {
   "cell_type": "code",
   "execution_count": 14,
   "id": "08bf139b",
   "metadata": {},
   "outputs": [
    {
     "name": "stdout",
     "output_type": "stream",
     "text": [
      "tensor([1])\n",
      "1\n"
     ]
    }
   ],
   "source": [
    "x = torch.tensor([1])\n",
    "print(x)\n",
    "x1 = x.item()\n",
    "print(x1)"
   ]
  },
  {
   "cell_type": "code",
   "execution_count": 32,
   "id": "fd91e74e",
   "metadata": {},
   "outputs": [
    {
     "name": "stdout",
     "output_type": "stream",
     "text": [
      "x的导数: tensor([[ 2., -2.],\n",
      "        [ 2.,  2.]])\n",
      "y的导数: tensor([[3., 3.],\n",
      "        [3., 3.]])\n"
     ]
    }
   ],
   "source": [
    "x = torch.tensor([[1.,-1.],[1.,1.]],dtype=torch.float32,requires_grad=True)\n",
    "y = torch.tensor([[1.,-1.],[1.,1.]],dtype=torch.float32,requires_grad=True)\n",
    "z = (x.pow(2)+ y.pow(3)).sum() # x^2 + y^3 的导数\n",
    "z.backward()\n",
    "print('x的导数:',x.grad)\n",
    "print('y的导数:',y.grad)\n"
   ]
  },
  {
   "cell_type": "code",
   "execution_count": 34,
   "id": "98eb27c7",
   "metadata": {},
   "outputs": [
    {
     "name": "stdout",
     "output_type": "stream",
     "text": [
      "torch.add(x,y)： tensor([[ 3., -3.],\n",
      "        [ 3.,  3.]], grad_fn=<AddBackward0>)\n",
      "y.add(x): tensor([[ 4., -4.],\n",
      "        [ 4.,  4.]], grad_fn=<AddBackward0>)\n"
     ]
    }
   ],
   "source": [
    "x = torch.tensor([[1.,-1.],[1.,1.]],dtype=torch.float32,requires_grad=True)\n",
    "y = torch.tensor([[2.,-2.],[2.,2.]],dtype=torch.float32,requires_grad=True)\n",
    "z = torch.add(x,y)\n",
    "print('torch.add(x,y)：',z)\n",
    "z = y.add(x,alpha=2)\n",
    "print('y.add(x):',z)"
   ]
  },
  {
   "cell_type": "code",
   "execution_count": 35,
   "id": "7d465b80",
   "metadata": {},
   "outputs": [
    {
     "name": "stdout",
     "output_type": "stream",
     "text": [
      "torch.add(x,y)： tensor([[-1.,  1.],\n",
      "        [-1., -1.]], grad_fn=<SubBackward0>)\n",
      "y.add(x): tensor([[0., 0.],\n",
      "        [0., 0.]], grad_fn=<SubBackward0>)\n"
     ]
    }
   ],
   "source": [
    "x = torch.tensor([[1.,-1.],[1.,1.]],dtype=torch.float32,requires_grad=True)\n",
    "y = torch.tensor([[2.,-2.],[2.,2.]],dtype=torch.float32,requires_grad=True)\n",
    "z = torch.sub(x,y)\n",
    "print('torch.add(x,y)：',z)\n",
    "z = y.sub(x,alpha=2)\n",
    "print('y.add(x):',z)"
   ]
  },
  {
   "cell_type": "code",
   "execution_count": 42,
   "id": "4716ade2",
   "metadata": {},
   "outputs": [
    {
     "name": "stdout",
     "output_type": "stream",
     "text": [
      "tensor([[ 0.5297,  0.2418, -0.5601,  1.0870],\n",
      "        [-0.5980,  0.9345,  0.2566,  0.8302],\n",
      "        [ 2.3981,  1.5153, -0.3917,  0.3148],\n",
      "        [-1.0985,  0.5163, -1.3804, -1.0378]])\n",
      "tensor([[ 0.5297,  0.2418, -0.5601,  1.0870, -0.5980,  0.9345,  0.2566,  0.8302],\n",
      "        [ 2.3981,  1.5153, -0.3917,  0.3148, -1.0985,  0.5163, -1.3804, -1.0378]])\n"
     ]
    }
   ],
   "source": [
    "x = torch.randn(4,4)\n",
    "print(x)\n",
    "x = x.reshape(2,8)\n",
    "print(x)"
   ]
  },
  {
   "cell_type": "code",
   "execution_count": 47,
   "id": "6d0aecaa",
   "metadata": {},
   "outputs": [
    {
     "name": "stdout",
     "output_type": "stream",
     "text": [
      "x: tensor([[[ 0.1611, -0.2936,  0.0684,  2.0824],\n",
      "         [ 1.9325,  1.5520, -0.6921, -0.5396]],\n",
      "\n",
      "        [[ 2.0934,  0.3382, -0.3702, -1.4100],\n",
      "         [-0.8347,  0.9150,  1.9065, -0.6693]]])\n",
      "y: tensor([[[-0.2307, -0.2435, -0.6239, -0.2596],\n",
      "         [-0.3924, -0.5992,  0.5582,  1.6862]],\n",
      "\n",
      "        [[-1.4488,  0.2442, -0.4640,  0.5149],\n",
      "         [ 0.5927, -0.2686, -0.6326, -0.2007]]])\n",
      "reduce_mean: tensor(49.0464)\n"
     ]
    }
   ],
   "source": [
    "x = torch.randn(2,2,4)\n",
    "y = torch.randn(2,2,4)\n",
    "reduce_mean = torch.mean(((x - y)**2).sum())\n",
    "print('x:',x)\n",
    "print('y:',y)\n",
    "print('reduce_mean:',reduce_mean)"
   ]
  },
  {
   "cell_type": "code",
   "execution_count": 38,
   "id": "3b5a888b",
   "metadata": {},
   "outputs": [
    {
     "name": "stdout",
     "output_type": "stream",
     "text": [
      "最大的值： 6\n"
     ]
    }
   ],
   "source": [
    "y = torch.argmax(x)\n",
    "print('最大的值：',y.item())"
   ]
  },
  {
   "cell_type": "code",
   "execution_count": null,
   "id": "0460569b",
   "metadata": {},
   "outputs": [],
   "source": []
  }
 ],
 "metadata": {
  "kernelspec": {
   "display_name": "Python 3",
   "language": "python",
   "name": "python3"
  },
  "language_info": {
   "codemirror_mode": {
    "name": "ipython",
    "version": 3
   },
   "file_extension": ".py",
   "mimetype": "text/x-python",
   "name": "python",
   "nbconvert_exporter": "python",
   "pygments_lexer": "ipython3",
   "version": "3.7.10"
  }
 },
 "nbformat": 4,
 "nbformat_minor": 5
}
