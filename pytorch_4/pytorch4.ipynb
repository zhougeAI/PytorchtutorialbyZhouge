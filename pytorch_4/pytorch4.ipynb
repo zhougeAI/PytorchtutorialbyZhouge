{
 "cells": [
  {
   "cell_type": "code",
   "execution_count": 1,
   "id": "ad710f76",
   "metadata": {},
   "outputs": [],
   "source": [
    "import torch\n",
    "import torch.nn as nn\n",
    "import torch.nn.functional as F"
   ]
  },
  {
   "cell_type": "code",
   "execution_count": 2,
   "id": "f7c1b97f",
   "metadata": {},
   "outputs": [],
   "source": [
    "class MyModel(nn.Module):\n",
    "    def __init__(self):\n",
    "        super().__init__()\n",
    "        self.conv1 = nn.Conv2d(1,20,5)\n",
    "        self.conv2 = nn.Conv2d(20,20,5)\n",
    "        \n",
    "    def forward(self,x):\n",
    "        x = F.relu(self.conv1(x))\n",
    "        x = F.relu(self.conv2(x))\n",
    "        return x\n",
    "        "
   ]
  },
  {
   "cell_type": "code",
   "execution_count": 3,
   "id": "bb86c7e0",
   "metadata": {},
   "outputs": [],
   "source": [
    "mymodel1 = MyModel()"
   ]
  },
  {
   "cell_type": "code",
   "execution_count": 10,
   "id": "fb5418e9",
   "metadata": {},
   "outputs": [],
   "source": [
    "input_tensor = torch.rand([1,1,100,100])"
   ]
  },
  {
   "cell_type": "code",
   "execution_count": 19,
   "id": "21d3f5df",
   "metadata": {},
   "outputs": [
    {
     "name": "stdout",
     "output_type": "stream",
     "text": [
      "output_tensor_shape: torch.Size([1, 20, 92, 92])\n"
     ]
    }
   ],
   "source": [
    "# 模型的使用，可以直接当一个函数使用\n",
    "output_tensor = mymodel1(input_tensor)\n",
    "# print('output_tensor:',output_tensor*100)\n",
    "print('output_tensor_shape:',output_tensor.size())\n",
    "# print('output_tensor:',output_tensor)"
   ]
  },
  {
   "cell_type": "code",
   "execution_count": 42,
   "id": "ce99416c",
   "metadata": {},
   "outputs": [],
   "source": [
    "# 层：output = input + tensor_b  再经过sigmoid函数\n",
    "class MyLayer(nn.Module):\n",
    "    def __init__(self):\n",
    "        super().__init__()\n",
    "        self.tensor_b = torch.ones_like(output_tensor)\n",
    "    \n",
    "    def forward(self,input):\n",
    "        output = input + self.tensor_b\n",
    "        output = F.sigmoid(output)\n",
    "        return output\n",
    "\n",
    "myaddlayer = MyLayer()"
   ]
  },
  {
   "cell_type": "code",
   "execution_count": 43,
   "id": "72ddeed8",
   "metadata": {},
   "outputs": [
    {
     "name": "stdout",
     "output_type": "stream",
     "text": [
      "output_tensor tensor([0.8808])\n"
     ]
    },
    {
     "name": "stderr",
     "output_type": "stream",
     "text": [
      "D:\\Miniconda\\envs\\pytorch\\lib\\site-packages\\torch\\nn\\functional.py:1709: UserWarning: nn.functional.sigmoid is deprecated. Use torch.sigmoid instead.\n",
      "  warnings.warn(\"nn.functional.sigmoid is deprecated. Use torch.sigmoid instead.\")\n"
     ]
    }
   ],
   "source": [
    "input_tensor = torch.tensor([1])  #   Sigmoid(1 + 5) = Sigmoid(6) = 0.9975\n",
    "output_tensor = myaddlayer(input_tensor)\n",
    "print('output_tensor',output_tensor)"
   ]
  },
  {
   "cell_type": "code",
   "execution_count": 48,
   "id": "7f421af3",
   "metadata": {},
   "outputs": [],
   "source": [
    "sequential = nn.Sequential()\n",
    "sequential.add_module(name='1',module = mymodel1)\n",
    "sequential.add_module(name='2',module = myaddlayer)\n",
    "# sequential 模型做的事情： input 经过 mymodel1 再经过 myaddlayer\n",
    "# print(sequential)\n",
    "input_tensor = torch.rand([1,1,100,100])\n",
    "output_tensor = sequential(input_tensor)\n",
    "# print('output_tensor:',output_tensor)"
   ]
  },
  {
   "cell_type": "code",
   "execution_count": 51,
   "id": "9fb69879",
   "metadata": {},
   "outputs": [
    {
     "name": "stdout",
     "output_type": "stream",
     "text": [
      "MyModel(\n",
      "  (conv1): Conv2d(1, 20, kernel_size=(5, 5), stride=(1, 1))\n",
      "  (conv2): Conv2d(20, 20, kernel_size=(5, 5), stride=(1, 1))\n",
      "  (2): MyLayer()\n",
      ")\n",
      "output_tensor: tensor([[[[0.0000e+00, 3.9832e-03, 2.0122e-02,  ..., 8.0488e-02,\n",
      "           0.0000e+00, 8.7464e-02],\n",
      "          [1.8515e-01, 6.2003e-02, 1.3160e-01,  ..., 2.4771e-01,\n",
      "           1.9300e-01, 1.5898e-01],\n",
      "          [1.4503e-01, 8.2405e-02, 1.7582e-01,  ..., 8.1453e-02,\n",
      "           0.0000e+00, 8.9916e-03],\n",
      "          ...,\n",
      "          [1.2904e-01, 1.2221e-01, 1.8300e-01,  ..., 1.8314e-01,\n",
      "           1.8548e-01, 0.0000e+00],\n",
      "          [1.2022e-01, 2.0373e-01, 1.1384e-01,  ..., 0.0000e+00,\n",
      "           8.4078e-02, 1.0572e-02],\n",
      "          [9.4075e-02, 7.6843e-02, 3.3887e-02,  ..., 1.0832e-02,\n",
      "           6.6380e-02, 1.0525e-01]],\n",
      "\n",
      "         [[0.0000e+00, 0.0000e+00, 0.0000e+00,  ..., 0.0000e+00,\n",
      "           0.0000e+00, 0.0000e+00],\n",
      "          [0.0000e+00, 0.0000e+00, 0.0000e+00,  ..., 0.0000e+00,\n",
      "           0.0000e+00, 0.0000e+00],\n",
      "          [0.0000e+00, 0.0000e+00, 0.0000e+00,  ..., 0.0000e+00,\n",
      "           0.0000e+00, 0.0000e+00],\n",
      "          ...,\n",
      "          [0.0000e+00, 0.0000e+00, 0.0000e+00,  ..., 0.0000e+00,\n",
      "           0.0000e+00, 0.0000e+00],\n",
      "          [0.0000e+00, 0.0000e+00, 0.0000e+00,  ..., 0.0000e+00,\n",
      "           0.0000e+00, 0.0000e+00],\n",
      "          [0.0000e+00, 0.0000e+00, 0.0000e+00,  ..., 0.0000e+00,\n",
      "           0.0000e+00, 0.0000e+00]],\n",
      "\n",
      "         [[0.0000e+00, 0.0000e+00, 6.5346e-02,  ..., 1.9044e-02,\n",
      "           1.2249e-01, 4.8713e-02],\n",
      "          [7.0377e-02, 3.4081e-02, 5.6805e-03,  ..., 9.0360e-02,\n",
      "           5.2989e-02, 0.0000e+00],\n",
      "          [1.1714e-01, 1.6124e-02, 7.4135e-03,  ..., 9.1598e-02,\n",
      "           0.0000e+00, 0.0000e+00],\n",
      "          ...,\n",
      "          [1.6667e-01, 1.1695e-01, 1.7014e-01,  ..., 6.8593e-02,\n",
      "           3.6462e-02, 0.0000e+00],\n",
      "          [1.3134e-01, 2.4176e-01, 0.0000e+00,  ..., 7.6822e-02,\n",
      "           5.7227e-02, 9.0521e-02],\n",
      "          [2.3554e-02, 0.0000e+00, 3.0073e-02,  ..., 0.0000e+00,\n",
      "           2.3001e-02, 5.9906e-02]],\n",
      "\n",
      "         ...,\n",
      "\n",
      "         [[2.4631e-02, 0.0000e+00, 0.0000e+00,  ..., 2.0850e-02,\n",
      "           0.0000e+00, 1.0413e-02],\n",
      "          [5.1690e-02, 0.0000e+00, 0.0000e+00,  ..., 0.0000e+00,\n",
      "           0.0000e+00, 0.0000e+00],\n",
      "          [0.0000e+00, 1.9140e-02, 0.0000e+00,  ..., 0.0000e+00,\n",
      "           0.0000e+00, 0.0000e+00],\n",
      "          ...,\n",
      "          [3.2738e-02, 4.1519e-02, 0.0000e+00,  ..., 0.0000e+00,\n",
      "           6.3157e-04, 0.0000e+00],\n",
      "          [0.0000e+00, 6.7481e-02, 0.0000e+00,  ..., 0.0000e+00,\n",
      "           0.0000e+00, 6.9316e-02],\n",
      "          [0.0000e+00, 0.0000e+00, 0.0000e+00,  ..., 0.0000e+00,\n",
      "           0.0000e+00, 5.5308e-02]],\n",
      "\n",
      "         [[0.0000e+00, 0.0000e+00, 0.0000e+00,  ..., 0.0000e+00,\n",
      "           0.0000e+00, 2.1430e-04],\n",
      "          [5.6706e-02, 1.8266e-01, 4.4981e-02,  ..., 0.0000e+00,\n",
      "           0.0000e+00, 0.0000e+00],\n",
      "          [0.0000e+00, 0.0000e+00, 1.0992e-03,  ..., 0.0000e+00,\n",
      "           0.0000e+00, 0.0000e+00],\n",
      "          ...,\n",
      "          [0.0000e+00, 1.5706e-02, 0.0000e+00,  ..., 0.0000e+00,\n",
      "           0.0000e+00, 0.0000e+00],\n",
      "          [0.0000e+00, 0.0000e+00, 0.0000e+00,  ..., 0.0000e+00,\n",
      "           0.0000e+00, 4.9856e-03],\n",
      "          [0.0000e+00, 0.0000e+00, 0.0000e+00,  ..., 6.8324e-02,\n",
      "           1.9356e-02, 0.0000e+00]],\n",
      "\n",
      "         [[0.0000e+00, 0.0000e+00, 0.0000e+00,  ..., 0.0000e+00,\n",
      "           0.0000e+00, 0.0000e+00],\n",
      "          [0.0000e+00, 0.0000e+00, 0.0000e+00,  ..., 0.0000e+00,\n",
      "           0.0000e+00, 0.0000e+00],\n",
      "          [0.0000e+00, 0.0000e+00, 0.0000e+00,  ..., 0.0000e+00,\n",
      "           0.0000e+00, 0.0000e+00],\n",
      "          ...,\n",
      "          [0.0000e+00, 0.0000e+00, 0.0000e+00,  ..., 0.0000e+00,\n",
      "           0.0000e+00, 0.0000e+00],\n",
      "          [0.0000e+00, 0.0000e+00, 0.0000e+00,  ..., 0.0000e+00,\n",
      "           0.0000e+00, 0.0000e+00],\n",
      "          [0.0000e+00, 0.0000e+00, 0.0000e+00,  ..., 0.0000e+00,\n",
      "           0.0000e+00, 0.0000e+00]]]], grad_fn=<ReluBackward0>)\n"
     ]
    }
   ],
   "source": [
    "mymodel1.add_module(name='2',module = myaddlayer)\n",
    "print(mymodel1)\n",
    "input_tensor = torch.rand([1,1,100,100])\n",
    "output_tensor = mymodel1(input_tensor)\n",
    "print('output_tensor:',output_tensor)"
   ]
  },
  {
   "cell_type": "code",
   "execution_count": null,
   "id": "d1336b0c",
   "metadata": {},
   "outputs": [],
   "source": []
  }
 ],
 "metadata": {
  "kernelspec": {
   "display_name": "Python 3",
   "language": "python",
   "name": "python3"
  },
  "language_info": {
   "codemirror_mode": {
    "name": "ipython",
    "version": 3
   },
   "file_extension": ".py",
   "mimetype": "text/x-python",
   "name": "python",
   "nbconvert_exporter": "python",
   "pygments_lexer": "ipython3",
   "version": "3.7.10"
  }
 },
 "nbformat": 4,
 "nbformat_minor": 5
}
