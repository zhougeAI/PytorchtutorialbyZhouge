{
 "cells": [
  {
   "cell_type": "code",
   "execution_count": 1,
   "id": "unnecessary-symphony",
   "metadata": {},
   "outputs": [],
   "source": [
    "import torch\n",
    "import torch.nn as nn\n",
    "import torchvision\n",
    "import numpy\n",
    "import matplotlib.pyplot as plt\n",
    "from torchsummary import summary"
   ]
  },
  {
   "cell_type": "code",
   "execution_count": 15,
   "id": "excellent-contest",
   "metadata": {},
   "outputs": [],
   "source": [
    "# 定义模型类\n",
    "class MyModel(nn.Module):\n",
    "    def __init__(self):\n",
    "        super().__init__()\n",
    "        #layer1\n",
    "        self.conv_layer1 = nn.Conv2d( in_channels = 3, out_channels = 32, kernel_size = 3, stride = 1, padding = 0 )\n",
    "        self.batch_norm_layer1 = nn.BatchNorm2d(32)\n",
    "        self.relu1 = nn.ReLU()\n",
    "        #layer2\n",
    "        self.conv_layer2 = nn.Conv2d( in_channels = 32, out_channels = 64, kernel_size = 3, stride = 1, padding = 0 )\n",
    "        self.batch_norm_layer2 = nn.BatchNorm2d(64)\n",
    "        self.relu2 = nn.ReLU()\n",
    "        #layer3\n",
    "        self.conv_layer3 = nn.Conv2d( in_channels = 64, out_channels = 128, kernel_size = 3, stride = 1, padding = 0)\n",
    "        self.batch_norm_layer3 = nn.BatchNorm2d(128)\n",
    "        self.relu3 = nn.ReLU()\n",
    "        # layer4\n",
    "        self.conv_layer4 = nn.Conv2d( in_channels = 128, out_channels = 256, kernel_size = 3, stride = 1, padding = 0)\n",
    "        self.batch_norm_layer4 = nn.BatchNorm2d(256)\n",
    "        self.relu4 = nn.ReLU()\n",
    "        # layer5\n",
    "        self.flatten5 = nn.Flatten()\n",
    "        self.lieaner5 = nn.Linear(in_features=2166784,out_features=5)\n",
    "        self.sigmoid5 = nn.Sigmoid()\n",
    "        \n",
    "    def forward(self,input):\n",
    "        # layer 1\n",
    "        conv_layer1_out = self.conv_layer1(input)\n",
    "        batch_norm_layer1_out = self.batch_norm_layer1(conv_layer1_out)\n",
    "        relu1_out = self.relu1(batch_norm_layer1_out)\n",
    "        # layer 2\n",
    "        conv_layer2_out = self.conv_layer2(relu1_out)\n",
    "        batch_norm_layer2_out = self.batch_norm_layer2(conv_layer2_out)\n",
    "        relu2_out = self.relu2(batch_norm_layer2_out)\n",
    "        # layer 3\n",
    "        conv_layer3_out = self.conv_layer3(relu2_out)\n",
    "        batch_norm_layer3_out = self.batch_norm_layer3(conv_layer3_out)\n",
    "        relu3_out = self.relu3(batch_norm_layer3_out)\n",
    "        # layer 4\n",
    "        conv_layer4_out = self.conv_layer4(relu3_out)\n",
    "        batch_norm_layer4_out = self.batch_norm_layer4(conv_layer4_out)\n",
    "        relu4_out = self.relu4(batch_norm_layer4_out)\n",
    "        # layer 5\n",
    "        flatten5_out = self.flatten5(relu4_out)\n",
    "        linear5_out = self.lieaner5(flatten5_out)\n",
    "        sigmoid5_out = self.sigmoid5(linear5_out)\n",
    "        \n",
    "        return relu3_out"
   ]
  },
  {
   "cell_type": "code",
   "execution_count": 16,
   "id": "rotary-expert",
   "metadata": {},
   "outputs": [],
   "source": [
    "# 定义模型，实例化类\n",
    "mymodel = MyModel()"
   ]
  },
  {
   "cell_type": "code",
   "execution_count": 17,
   "id": "positive-summary",
   "metadata": {},
   "outputs": [
    {
     "name": "stdout",
     "output_type": "stream",
     "text": [
      "----------------------------------------------------------------\n",
      "        Layer (type)               Output Shape         Param #\n",
      "================================================================\n",
      "            Conv2d-1            [1, 32, 98, 98]             896\n",
      "       BatchNorm2d-2            [1, 32, 98, 98]              64\n",
      "              ReLU-3            [1, 32, 98, 98]               0\n",
      "            Conv2d-4            [1, 64, 96, 96]          18,496\n",
      "       BatchNorm2d-5            [1, 64, 96, 96]             128\n",
      "              ReLU-6            [1, 64, 96, 96]               0\n",
      "            Conv2d-7           [1, 128, 94, 94]          73,856\n",
      "       BatchNorm2d-8           [1, 128, 94, 94]             256\n",
      "              ReLU-9           [1, 128, 94, 94]               0\n",
      "           Conv2d-10           [1, 256, 92, 92]         295,168\n",
      "      BatchNorm2d-11           [1, 256, 92, 92]             512\n",
      "             ReLU-12           [1, 256, 92, 92]               0\n",
      "          Flatten-13               [1, 2166784]               0\n",
      "           Linear-14                     [1, 5]      10,833,925\n",
      "          Sigmoid-15                     [1, 5]               0\n",
      "================================================================\n",
      "Total params: 11,223,301\n",
      "Trainable params: 11,223,301\n",
      "Non-trainable params: 0\n",
      "----------------------------------------------------------------\n",
      "Input size (MB): 0.11\n",
      "Forward/backward pass size (MB): 112.55\n",
      "Params size (MB): 42.81\n",
      "Estimated Total Size (MB): 155.47\n",
      "----------------------------------------------------------------\n"
     ]
    }
   ],
   "source": [
    "summary(mymodel,input_size=[(3,100,100)],batch_size=1,device='cpu')"
   ]
  },
  {
   "cell_type": "code",
   "execution_count": null,
   "id": "78376d66",
   "metadata": {},
   "outputs": [],
   "source": []
  }
 ],
 "metadata": {
  "kernelspec": {
   "display_name": "Python 3",
   "language": "python",
   "name": "python3"
  },
  "language_info": {
   "codemirror_mode": {
    "name": "ipython",
    "version": 3
   },
   "file_extension": ".py",
   "mimetype": "text/x-python",
   "name": "python",
   "nbconvert_exporter": "python",
   "pygments_lexer": "ipython3",
   "version": "3.7.10"
  }
 },
 "nbformat": 4,
 "nbformat_minor": 5
}
